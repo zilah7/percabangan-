{
 "cells": [
  {
   "cell_type": "code",
   "execution_count": 3,
   "id": "3ab7dd05-8155-4339-b2a3-dc626b1de158",
   "metadata": {},
   "outputs": [
    {
     "name": "stdin",
     "output_type": "stream",
     "text": [
      "masukan nomor_punnggung: 80\n"
     ]
    },
    {
     "name": "stdout",
     "output_type": "stream",
     "text": [
      "posisi:berhak di pilih menjadi calon captain team\n"
     ]
    }
   ],
   "source": [
    "nomor_punggung = int(input(\"masukan nomor_punnggung:\"))\n",
    "posisi_pemain = ''\n",
    "\n",
    "if nomor_punggung %2 ==0:\n",
    "    if nomor_punggung >=50 and nomor_punggung <=100:\n",
    "        posisi_pemain = \"berhak di pilih menjadi calon captain team\"\n",
    "    else:\n",
    "        posisi_pemain = \"target attacker\"\n",
    "else:\n",
    "    if nomor_punggung >90:\n",
    "        posisi_pemain = \"playmaker\"\n",
    "    elif nomor_punggung %3 ==0 and nomor_punggung %5 == 0:\n",
    "        posisi_pemain = \"keeper\"\n",
    "    else:\n",
    "        posisi_pemain = \"defender\"\n",
    "print(\"posisi:\"+posisi_pemain)"
   ]
  },
  {
   "cell_type": "code",
   "execution_count": null,
   "id": "6bbef4ff-c453-4f0d-bfc5-a20c7a49b0a3",
   "metadata": {},
   "outputs": [],
   "source": []
  }
 ],
 "metadata": {
  "kernelspec": {
   "display_name": "Python 3 (ipykernel)",
   "language": "python",
   "name": "python3"
  },
  "language_info": {
   "codemirror_mode": {
    "name": "ipython",
    "version": 3
   },
   "file_extension": ".py",
   "mimetype": "text/x-python",
   "name": "python",
   "nbconvert_exporter": "python",
   "pygments_lexer": "ipython3",
   "version": "3.11.7"
  }
 },
 "nbformat": 4,
 "nbformat_minor": 5
}
