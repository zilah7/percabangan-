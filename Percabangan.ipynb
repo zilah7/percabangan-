{
 "cells": [
  {
   "cell_type": "code",
   "execution_count": 5,
   "id": "ae09853a",
   "metadata": {},
   "outputs": [
    {
     "name": "stdout",
     "output_type": "stream",
     "text": [
      "Isikan Nilai:7\n",
      "7adalah bilangan ganjil\n",
      "Program Selesai\n"
     ]
    }
   ],
   "source": [
    "#Menentukan ganjil genap\n",
    "nilai = int(input('Isikan Nilai:'))\n",
    "sisa_bagi = nilai % 2\n",
    "\n",
    "if sisa_bagi==0:\n",
    "    print(f'{nilai}adalah bilangan genap')  \n",
    "else:\n",
    "    print(f'{nilai}adalah bilangan ganjil')\n",
    "print('Program Selesai')                  "
   ]
  },
  {
   "cell_type": "code",
   "execution_count": 13,
   "id": "8069b207",
   "metadata": {},
   "outputs": [
    {
     "name": "stdout",
     "output_type": "stream",
     "text": [
      "Isikan Nilai Pemprograman:901\n",
      "Nilai Anda Salah\n"
     ]
    }
   ],
   "source": [
    "nilai_programan = int(input('Isikan Nilai Pemprograman:'))\n",
    "if nilai_programan < 0 or nilai_programan > 100:\n",
    "    print(\"Nilai Anda Salah\")\n",
    "else:\n",
    "    if nilai_programan <50:\n",
    "        print(\"E\")\n",
    "    elif nilai_programan <60:\n",
    "        print(\"D\")\n",
    "    elif nilai_programan <70:\n",
    "        print(\"C\")\n",
    "    elif nilai_programan <85:\n",
    "        print(\"B\")\n",
    "    elif nilai_programan <=100:\n",
    "        print(\"A\")\n"
   ]
  },
  {
   "cell_type": "code",
   "execution_count": 16,
   "id": "9f0e26ac",
   "metadata": {},
   "outputs": [
    {
     "name": "stdout",
     "output_type": "stream",
     "text": [
      "Isikan Usernameadmin\n",
      "Isikan Password12345678\n",
      "password anda salah\n"
     ]
    }
   ],
   "source": [
    "username = input('Isikan Username')\n",
    "password = input('Isikan Password')\n",
    "\n",
    "#jika username salah => username anda sala\n",
    "#jika password salah => passsword anda salah\n",
    "#jika keduanya salah => username dan passsword anda salah\n",
    "#jika keduanya benar => selamat datang username\n",
    "#username: admin\n",
    "#password: admin\n",
    "\n",
    "if username == 'admin':\n",
    "    if password=='admin':\n",
    "        print(f'selamat datang{username}')\n",
    "    else:\n",
    "        print(f'password anda salah')\n",
    "    \n",
    "    \n",
    "else:\n",
    "    if password == 'admin':\n",
    "        print(\"username anda salah\")\n",
    "    else:\n",
    "        print(\"username dan password salah\")"
   ]
  },
  {
   "cell_type": "code",
   "execution_count": 5,
   "id": "5c875947",
   "metadata": {},
   "outputs": [
    {
     "name": "stdout",
     "output_type": "stream",
     "text": [
      "masukan nama:opop\n",
      "masukan umur:50\n",
      "masukan tempat_tinggal:Nevada\n",
      "masukan uang_tabungan:20\n",
      "opop kemungkinan seseorang anggota mafia dengan pangkat don\n"
     ]
    }
   ],
   "source": [
    "nama = input(\"masukan nama:\")\n",
    "umur = int(input(\"masukan umur:\"))\n",
    "tempat_tinggal = input(\"masukan tempat_tinggal:\")\n",
    "uang_tabungan = int(input(\"masukan uang_tabungan:\"))\n",
    "\n",
    "pangkat = ''\n",
    "if umur > 40 :\n",
    "    if tempat_tinggal =='Nevada' or tempat_tinggal=='New york' or tempat_tinggal=='havana':\n",
    "        if uang_tabungan > 10 :\n",
    "            pangkat = 'don'\n",
    "\n",
    "elif umur >= 25 and umur <=40:\n",
    "    if tempat_tinggal == 'new jersey' or tempat_tinggal == 'manhattan' or tempat_tinggal == 'nevada':\n",
    "        if uang_tabungan >0 and uang_tabungan <=2:\n",
    "                pangkat = 'underboss'\n",
    "                \n",
    "elif umur >= 19 and umur <= 24:\n",
    "     if tempat_tinggal == 'california' or tempat_tinggal== 'detroit' or tempat_tinggal=='botsom':\n",
    "        if uang_tabungan < 1:\n",
    "            pangkat = 'capo'\n",
    "#lanjutkan \n",
    "        \n",
    "if pangkat !='':\n",
    "    print(f'{nama} kemungkinan seseorang anggota mafia dengan pangkat {pangkat}')\n",
    "else:\n",
    "    print(f'{nama} tidak mencurigakan')\n",
    "          \n"
   ]
  },
  {
   "cell_type": "code",
   "execution_count": null,
   "id": "be260846",
   "metadata": {},
   "outputs": [],
   "source": []
  },
  {
   "cell_type": "code",
   "execution_count": null,
   "id": "e35cdafc",
   "metadata": {},
   "outputs": [],
   "source": []
  }
 ],
 "metadata": {
  "kernelspec": {
   "display_name": "Python 3 (ipykernel)",
   "language": "python",
   "name": "python3"
  },
  "language_info": {
   "codemirror_mode": {
    "name": "ipython",
    "version": 3
   },
   "file_extension": ".py",
   "mimetype": "text/x-python",
   "name": "python",
   "nbconvert_exporter": "python",
   "pygments_lexer": "ipython3",
   "version": "3.9.12"
  }
 },
 "nbformat": 4,
 "nbformat_minor": 5
}
