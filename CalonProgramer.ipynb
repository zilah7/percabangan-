{
 "cells": [
  {
   "cell_type": "code",
   "execution_count": 1,
   "id": "f3cb52d4-fc17-4db6-a5fb-dbdcf3fbe62e",
   "metadata": {},
   "outputs": [
    {
     "name": "stdin",
     "output_type": "stream",
     "text": [
      "Masukan Nilai : 80\n",
      "Masukan Nilai interview : c\n"
     ]
    },
    {
     "name": "stdout",
     "output_type": "stream",
     "text": [
      "Maap Anda Belum Berhasil Menjadi Calon Programer\n"
     ]
    }
   ],
   "source": [
    "nilai_coding = int(input(\"Masukan Nilai :\"))\n",
    "hasil_coding =''\n",
    "\n",
    "if nilai_coding > 80 and nilai_coding <=100:\n",
    "    hasil_coding =\"LOLOS\"\n",
    "elif nilai_coding >=60 and nilai_coding <=80:\n",
    "    hasil_coding =\"DIPERTIMBANGKAN\"\n",
    "elif nilai_coding >= 0 and nilai_coding < 60:\n",
    "    hsil_coding = \"GAGAL\"\n",
    "else:\n",
    "    print(\"input anda salah\")\n",
    "nilai_interview = input(\"Masukan Nilai interview :\")\n",
    "hasil_interview =''\n",
    "\n",
    "if nilai_interview == \"A\" or nilai_interview == \"B\":\n",
    "    hasil_interview = \"LOLOS\"\n",
    "else:\n",
    "    hasil_interview = \"GAGAL\"\n",
    "\n",
    "if (hasil_coding == \"LOLOS\" or hasil_coding == \"DIPERTIMBANGKAN\") and hasil_interview == \"LOLOS\":\n",
    "    print(\"Selamat Anda Berhasil Menjadi Calon Programmer\")\n",
    "else:\n",
    "    print(\"Maap Anda Belum Berhasil Menjadi Calon Programer\")\n"
   ]
  },
  {
   "cell_type": "code",
   "execution_count": null,
   "id": "5eab97c4-b749-43cc-941b-25e337a2d326",
   "metadata": {},
   "outputs": [],
   "source": []
  }
 ],
 "metadata": {
  "kernelspec": {
   "display_name": "Python 3 (ipykernel)",
   "language": "python",
   "name": "python3"
  },
  "language_info": {
   "codemirror_mode": {
    "name": "ipython",
    "version": 3
   },
   "file_extension": ".py",
   "mimetype": "text/x-python",
   "name": "python",
   "nbconvert_exporter": "python",
   "pygments_lexer": "ipython3",
   "version": "3.11.7"
  }
 },
 "nbformat": 4,
 "nbformat_minor": 5
}
